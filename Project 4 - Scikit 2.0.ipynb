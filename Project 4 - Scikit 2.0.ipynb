{
 "cells": [
  {
   "cell_type": "markdown",
   "metadata": {},
   "source": [
    "# Project 4 - Scikit  Learn Predictive Analysis\n",
    "\n",
    "### By Billy Cole\n",
    "\n",
    "Lets do some Predictive anaylsis on our previous week's data set."
   ]
  },
  {
   "cell_type": "code",
   "execution_count": 17,
   "metadata": {
    "collapsed": false
   },
   "outputs": [],
   "source": [
    "import pandas as pd\n",
    "import sklearn.model_selection\n",
    "import sklearn.linear_model\n",
    "from sklearn import metrics\n",
    "import numpy as np"
   ]
  },
  {
   "cell_type": "markdown",
   "metadata": {},
   "source": [
    "##### Lets re-import the mushroom data set from the site and apply the numerical values to the columns for easier manipulation:"
   ]
  },
  {
   "cell_type": "code",
   "execution_count": 18,
   "metadata": {
    "collapsed": true
   },
   "outputs": [],
   "source": [
    "shrooms = pd.read_csv('https://archive.ics.uci.edu/ml/machine-learning-databases/mushroom/agaricus-lepiota.data',sep=',', header=None, usecols=[0,3,5], names=[\"Edible\",\"Color\",\"Odor\"])\n",
    "shrooms.replace(to_replace={\"Edible\":{'p': 1, 'e': 0}}, inplace=True)"
   ]
  },
  {
   "cell_type": "markdown",
   "metadata": {},
   "source": [
    "##### Now lets take the other columns and create dummy variables out of the categorial variables for better statistical analysis:"
   ]
  },
  {
   "cell_type": "code",
   "execution_count": 19,
   "metadata": {
    "collapsed": false
   },
   "outputs": [],
   "source": [
    "color = pd.Series(shrooms['Color'])\n",
    "c = pd.get_dummies(color)\n",
    "\n",
    "odor = pd.Series(shrooms['Odor'])\n",
    "o = pd.get_dummies(odor)"
   ]
  },
  {
   "cell_type": "markdown",
   "metadata": {},
   "source": [
    "##### Let's merge the data into a new data frame with a response column:"
   ]
  },
  {
   "cell_type": "code",
   "execution_count": 20,
   "metadata": {
    "collapsed": false
   },
   "outputs": [],
   "source": [
    "shrooms2 = pd.concat([c, o, shrooms['Edible']], axis=1)\n",
    "cols = list(shrooms2.iloc[:, :-1])"
   ]
  },
  {
   "cell_type": "markdown",
   "metadata": {},
   "source": [
    "##### Let's put the data in x,y coords and setup the training models:"
   ]
  },
  {
   "cell_type": "code",
   "execution_count": 21,
   "metadata": {
    "collapsed": false
   },
   "outputs": [],
   "source": [
    "X = shrooms2.iloc[:, :-1].values\n",
    "Y = shrooms2.iloc[:, 1].values\n",
    "\n",
    "X_train, X_test, Y_train, Y_test = sklearn.model_selection.train_test_split(X, Y, random_state=1)"
   ]
  },
  {
   "cell_type": "markdown",
   "metadata": {},
   "source": [
    "##### Let's use linear regression to make predictions on the testing set and show baseline true and predictive output:"
   ]
  },
  {
   "cell_type": "code",
   "execution_count": 22,
   "metadata": {
    "collapsed": false
   },
   "outputs": [
    {
     "name": "stdout",
     "output_type": "stream",
     "text": [
      "0.0\n",
      "0.0\n",
      "0.0\n"
     ]
    }
   ],
   "source": [
    "linreg = sklearn.linear_model.LinearRegression()\n",
    "linreg.fit(X_train, Y_train)\n",
    "Y_pred = linreg.predict(X_test)\n",
    "t = [1, 0]\n",
    "p = [1, 0]\n",
    "\n",
    "print(sklearn.metrics.mean_absolute_error(t, p))\n",
    "print(sklearn.metrics.mean_squared_error(t, p))\n",
    "print(np.sqrt(sklearn.metrics.mean_squared_error(t, p)))"
   ]
  },
  {
   "cell_type": "markdown",
   "metadata": {},
   "source": [
    "##### As a baseline model lets find the Root Mean Squared Error for the whole data set to compute the margin for error:"
   ]
  },
  {
   "cell_type": "code",
   "execution_count": 24,
   "metadata": {
    "collapsed": false
   },
   "outputs": [
    {
     "name": "stdout",
     "output_type": "stream",
     "text": [
      "5.24851980443e-15\n"
     ]
    }
   ],
   "source": [
    "print(np.sqrt(metrics.mean_squared_error(Y_test, Y_pred)))"
   ]
  },
  {
   "cell_type": "markdown",
   "metadata": {},
   "source": [
    "The closer the value is to 0.0 the beter the variable predicts the edibility of the mushroom. So for the whole dataset, the RMSE is 0.0000000000000052485198 or 5.24851980443e-15 in scientfic notation, which is very close to 0.0. Which means the margin for error is low.\n",
    "\n",
    "#### Narrowing down the data set to show which variable is most important to predicting the edibility of the mushrooms:\n",
    "\n",
    "Using the RMSE to compute margin for error we can calculate which variable is most important, to do so we will eliminate variables and see how the RMSE is effected.\n",
    "\n",
    "##### Let's begin with omiting Color:"
   ]
  },
  {
   "cell_type": "code",
   "execution_count": 25,
   "metadata": {
    "collapsed": false
   },
   "outputs": [
    {
     "name": "stdout",
     "output_type": "stream",
     "text": [
      "0.0588025088502\n"
     ]
    }
   ],
   "source": [
    "X = shrooms2.iloc[:, 11:-1].values\n",
    "Y = shrooms2.iloc[:, 1].values\n",
    "\n",
    "X_train, X_test, Y_train, Y_test = sklearn.model_selection.train_test_split(X, y, random_state=1)\n",
    "linreg.fit(X_train, Y_train)\n",
    "Y_pred = linreg.predict(X_test)\n",
    "\n",
    "print(np.sqrt(metrics.mean_squared_error(Y_test, Y_pred)))"
   ]
  },
  {
   "cell_type": "markdown",
   "metadata": {},
   "source": [
    "As you can see the RMSE has gotten farther from 0.0 which means that the margin for error has increased. This means that without the color column the data is farther from the base line measurement.\n",
    "\n",
    "##### Let's now omit Odor:"
   ]
  },
  {
   "cell_type": "code",
   "execution_count": 26,
   "metadata": {
    "collapsed": false
   },
   "outputs": [
    {
     "name": "stdout",
     "output_type": "stream",
     "text": [
      "5.44607117657e-15\n"
     ]
    }
   ],
   "source": [
    "X = shrooms2.iloc[:, 1:10].values\n",
    "Y = shrooms2.iloc[:, 1].values\n",
    "\n",
    "X_train, X_test, Y_train, Y_test = sklearn.model_selection.train_test_split(X, y, random_state=1)\n",
    "linreg.fit(X_train, Y_train)\n",
    "Y_pred = linreg.predict(X_test)\n",
    "\n",
    "\n",
    "print(np.sqrt(metrics.mean_squared_error(Y_test, Y_pred)))"
   ]
  },
  {
   "cell_type": "markdown",
   "metadata": {},
   "source": [
    "The margin for error has gone down compared to omiting Color, but is still not as acurate as having both variables present.\n",
    "\n",
    "### Conclusion\n",
    "\n",
    "In comparing the RMSE we can find which item is closest to baseline and closer to predicting whether the mushroom is edible or not. While Color seems to be a beter predictor of edibility, it is not as good as using both Color and Odor. I would guess that testing other variables in the same manner would be a good step in showing which variable or set of variables is best to predict the edibility."
   ]
  }
 ],
 "metadata": {
  "kernelspec": {
   "display_name": "Python 3",
   "language": "python",
   "name": "python3"
  },
  "language_info": {
   "codemirror_mode": {
    "name": "ipython",
    "version": 3
   },
   "file_extension": ".py",
   "mimetype": "text/x-python",
   "name": "python",
   "nbconvert_exporter": "python",
   "pygments_lexer": "ipython3",
   "version": "3.5.1"
  }
 },
 "nbformat": 4,
 "nbformat_minor": 2
}
